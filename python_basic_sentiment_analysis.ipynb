{
  "nbformat": 4,
  "nbformat_minor": 0,
  "metadata": {
    "colab": {
      "provenance": [],
      "gpuType": "T4"
    },
    "kernelspec": {
      "name": "python3",
      "display_name": "Python 3"
    },
    "language_info": {
      "name": "python"
    }
  },
  "cells": [
    {
      "cell_type": "code",
      "source": [
        "!pip install -q plotnine\n",
        "!pip install -q vaderSentiment\n",
        "!pip install -q wordfreq\n"
      ],
      "metadata": {
        "id": "2bg2uDdTlVQz",
        "colab": {
          "base_uri": "https://localhost:8080/"
        },
        "outputId": "e5e61159-ff8a-4a7d-e255-d3d48b9bc00b"
      },
      "execution_count": 1,
      "outputs": [
        {
          "output_type": "stream",
          "name": "stdout",
          "text": [
            "\u001b[2K     \u001b[90m━━━━━━━━━━━━━━━━━━━━━━━━━━━━━━━━━━━━━━━━\u001b[0m \u001b[32m126.0/126.0 kB\u001b[0m \u001b[31m1.6 MB/s\u001b[0m eta \u001b[36m0:00:00\u001b[0m\n",
            "\u001b[2K     \u001b[90m━━━━━━━━━━━━━━━━━━━━━━━━━━━━━━━━━━━━━━━━\u001b[0m \u001b[32m56.8/56.8 MB\u001b[0m \u001b[31m13.8 MB/s\u001b[0m eta \u001b[36m0:00:00\u001b[0m\n",
            "\u001b[2K     \u001b[90m━━━━━━━━━━━━━━━━━━━━━━━━━━━━━━━━━━━━━━━━\u001b[0m \u001b[32m53.4/53.4 kB\u001b[0m \u001b[31m5.9 MB/s\u001b[0m eta \u001b[36m0:00:00\u001b[0m\n",
            "\u001b[2K     \u001b[90m━━━━━━━━━━━━━━━━━━━━━━━━━━━━━━━━━━━━━━━━\u001b[0m \u001b[32m774.0/774.0 kB\u001b[0m \u001b[31m28.4 MB/s\u001b[0m eta \u001b[36m0:00:00\u001b[0m\n",
            "\u001b[?25h"
          ]
        }
      ]
    },
    {
      "cell_type": "code",
      "source": [
        "from googleapiclient.discovery import build\n",
        "from google.colab import drive\n",
        "from vaderSentiment.vaderSentiment import SentimentIntensityAnalyzer\n",
        "from plotnine import *\n",
        "from collections import Counter\n",
        "import wordfreq\n",
        "import googleapiclient.discovery\n",
        "import json\n",
        "import pandas as pd\n",
        "import csv\n",
        "import matplotlib.pyplot as plt\n",
        "import numpy as np\n",
        "\n"
      ],
      "metadata": {
        "id": "b32mTCpDVqx5"
      },
      "execution_count": 2,
      "outputs": []
    },
    {
      "cell_type": "markdown",
      "source": [
        "# Videos analyzed:\n",
        "- https://www.youtube.com/watch?v=ceKMnyMYIMo\n",
        "11958 comments.\n",
        "# Videos to analyze:\n",
        "- https://www.youtube.com/watch?v=v9WSjE3tIkg\n",
        "\n",
        "# TO DO!\n",
        "- train VaderSentiment with ground truth"
      ],
      "metadata": {
        "id": "1tCC0OAhFFsC"
      }
    },
    {
      "cell_type": "markdown",
      "source": [
        "# Data Ingestion"
      ],
      "metadata": {
        "id": "oDhlD49iI0_-"
      }
    },
    {
      "cell_type": "code",
      "source": [
        "\n",
        "drive.mount('/content/drive')"
      ],
      "metadata": {
        "id": "08Mt7T9hNktn",
        "colab": {
          "base_uri": "https://localhost:8080/"
        },
        "outputId": "3777adbc-c29c-4fcb-c1c9-97fc0103c715"
      },
      "execution_count": 3,
      "outputs": [
        {
          "output_type": "stream",
          "name": "stdout",
          "text": [
            "Mounted at /content/drive\n"
          ]
        }
      ]
    },
    {
      "cell_type": "code",
      "source": [
        "clean_data = pd.read_csv(\"/content/drive/MyDrive/ColabNotebooks for NLP and other ML/StrongInternetLanguage/clean_data.csv\",\n",
        "                         header=0, lineterminator='\\n', usecols=[\"COMMENT\"])"
      ],
      "metadata": {
        "id": "-ShIIs0Lx8Ns"
      },
      "execution_count": 4,
      "outputs": []
    },
    {
      "cell_type": "code",
      "source": [
        "clean_data.head(25)"
      ],
      "metadata": {
        "colab": {
          "base_uri": "https://localhost:8080/",
          "height": 833
        },
        "id": "QYQYuFhIybLg",
        "outputId": "47ccaf8d-47aa-41fe-e653-77ab349a6346"
      },
      "execution_count": 5,
      "outputs": [
        {
          "output_type": "execute_result",
          "data": {
            "text/plain": [
              "                                              COMMENT\n",
              "0                                     oh u are weird \n",
              "1   for 6 fucking minutes stop trying to be bo bur...\n",
              "2   we all make mistakes  this new generation of  ...\n",
              "3                                 huh?? what??? girl \n",
              "4   this whole entire situation is exposing the da...\n",
              "5   colleen  you made kids put their hands down yo...\n",
              "6   i feel like i’m watching a dramatized episode ...\n",
              "7                     be so fucking serious right now\n",
              "8      my jaw is on the floor and not in a good way 🫠\n",
              "9                        what 😀 the 😀 actual 😀 fuck 😀\n",
              "10  she probably sang otherwise she probably would...\n",
              "11  i refuse to believe you sat here and sang for ...\n",
              "12  i ve been following you for many many years an...\n",
              "13  she always wants to play victim  if it isn’t t...\n",
              "14  like is this real life??? we are experiencing ...\n",
              "15      its giving sienna mae s dance apology to jack\n",
              "16                                  we’ve missed you❤\n",
              "17  i have missed you so so terribly 💕 i was sad t...\n",
              "18  omg the ending was just the best ❤ i m so happ...\n",
              "19  toxic train? there s literally a photo of a yo...\n",
              "20           ive never clicked a notification so fast\n",
              "21  there are many who love ypu and remember when ...\n",
              "22  ive said from the start from the first time an...\n",
              "23  i couldn t get through the first line of this ...\n",
              "24                                      girl bye lmao"
            ],
            "text/html": [
              "\n",
              "  <div id=\"df-8a755a99-51bd-485f-902d-d324e0598fca\" class=\"colab-df-container\">\n",
              "    <div>\n",
              "<style scoped>\n",
              "    .dataframe tbody tr th:only-of-type {\n",
              "        vertical-align: middle;\n",
              "    }\n",
              "\n",
              "    .dataframe tbody tr th {\n",
              "        vertical-align: top;\n",
              "    }\n",
              "\n",
              "    .dataframe thead th {\n",
              "        text-align: right;\n",
              "    }\n",
              "</style>\n",
              "<table border=\"1\" class=\"dataframe\">\n",
              "  <thead>\n",
              "    <tr style=\"text-align: right;\">\n",
              "      <th></th>\n",
              "      <th>COMMENT</th>\n",
              "    </tr>\n",
              "  </thead>\n",
              "  <tbody>\n",
              "    <tr>\n",
              "      <th>0</th>\n",
              "      <td>oh u are weird</td>\n",
              "    </tr>\n",
              "    <tr>\n",
              "      <th>1</th>\n",
              "      <td>for 6 fucking minutes stop trying to be bo bur...</td>\n",
              "    </tr>\n",
              "    <tr>\n",
              "      <th>2</th>\n",
              "      <td>we all make mistakes  this new generation of  ...</td>\n",
              "    </tr>\n",
              "    <tr>\n",
              "      <th>3</th>\n",
              "      <td>huh?? what??? girl</td>\n",
              "    </tr>\n",
              "    <tr>\n",
              "      <th>4</th>\n",
              "      <td>this whole entire situation is exposing the da...</td>\n",
              "    </tr>\n",
              "    <tr>\n",
              "      <th>5</th>\n",
              "      <td>colleen  you made kids put their hands down yo...</td>\n",
              "    </tr>\n",
              "    <tr>\n",
              "      <th>6</th>\n",
              "      <td>i feel like i’m watching a dramatized episode ...</td>\n",
              "    </tr>\n",
              "    <tr>\n",
              "      <th>7</th>\n",
              "      <td>be so fucking serious right now</td>\n",
              "    </tr>\n",
              "    <tr>\n",
              "      <th>8</th>\n",
              "      <td>my jaw is on the floor and not in a good way 🫠</td>\n",
              "    </tr>\n",
              "    <tr>\n",
              "      <th>9</th>\n",
              "      <td>what 😀 the 😀 actual 😀 fuck 😀</td>\n",
              "    </tr>\n",
              "    <tr>\n",
              "      <th>10</th>\n",
              "      <td>she probably sang otherwise she probably would...</td>\n",
              "    </tr>\n",
              "    <tr>\n",
              "      <th>11</th>\n",
              "      <td>i refuse to believe you sat here and sang for ...</td>\n",
              "    </tr>\n",
              "    <tr>\n",
              "      <th>12</th>\n",
              "      <td>i ve been following you for many many years an...</td>\n",
              "    </tr>\n",
              "    <tr>\n",
              "      <th>13</th>\n",
              "      <td>she always wants to play victim  if it isn’t t...</td>\n",
              "    </tr>\n",
              "    <tr>\n",
              "      <th>14</th>\n",
              "      <td>like is this real life??? we are experiencing ...</td>\n",
              "    </tr>\n",
              "    <tr>\n",
              "      <th>15</th>\n",
              "      <td>its giving sienna mae s dance apology to jack</td>\n",
              "    </tr>\n",
              "    <tr>\n",
              "      <th>16</th>\n",
              "      <td>we’ve missed you❤</td>\n",
              "    </tr>\n",
              "    <tr>\n",
              "      <th>17</th>\n",
              "      <td>i have missed you so so terribly 💕 i was sad t...</td>\n",
              "    </tr>\n",
              "    <tr>\n",
              "      <th>18</th>\n",
              "      <td>omg the ending was just the best ❤ i m so happ...</td>\n",
              "    </tr>\n",
              "    <tr>\n",
              "      <th>19</th>\n",
              "      <td>toxic train? there s literally a photo of a yo...</td>\n",
              "    </tr>\n",
              "    <tr>\n",
              "      <th>20</th>\n",
              "      <td>ive never clicked a notification so fast</td>\n",
              "    </tr>\n",
              "    <tr>\n",
              "      <th>21</th>\n",
              "      <td>there are many who love ypu and remember when ...</td>\n",
              "    </tr>\n",
              "    <tr>\n",
              "      <th>22</th>\n",
              "      <td>ive said from the start from the first time an...</td>\n",
              "    </tr>\n",
              "    <tr>\n",
              "      <th>23</th>\n",
              "      <td>i couldn t get through the first line of this ...</td>\n",
              "    </tr>\n",
              "    <tr>\n",
              "      <th>24</th>\n",
              "      <td>girl bye lmao</td>\n",
              "    </tr>\n",
              "  </tbody>\n",
              "</table>\n",
              "</div>\n",
              "    <div class=\"colab-df-buttons\">\n",
              "\n",
              "  <div class=\"colab-df-container\">\n",
              "    <button class=\"colab-df-convert\" onclick=\"convertToInteractive('df-8a755a99-51bd-485f-902d-d324e0598fca')\"\n",
              "            title=\"Convert this dataframe to an interactive table.\"\n",
              "            style=\"display:none;\">\n",
              "\n",
              "  <svg xmlns=\"http://www.w3.org/2000/svg\" height=\"24px\" viewBox=\"0 -960 960 960\">\n",
              "    <path d=\"M120-120v-720h720v720H120Zm60-500h600v-160H180v160Zm220 220h160v-160H400v160Zm0 220h160v-160H400v160ZM180-400h160v-160H180v160Zm440 0h160v-160H620v160ZM180-180h160v-160H180v160Zm440 0h160v-160H620v160Z\"/>\n",
              "  </svg>\n",
              "    </button>\n",
              "\n",
              "  <style>\n",
              "    .colab-df-container {\n",
              "      display:flex;\n",
              "      gap: 12px;\n",
              "    }\n",
              "\n",
              "    .colab-df-convert {\n",
              "      background-color: #E8F0FE;\n",
              "      border: none;\n",
              "      border-radius: 50%;\n",
              "      cursor: pointer;\n",
              "      display: none;\n",
              "      fill: #1967D2;\n",
              "      height: 32px;\n",
              "      padding: 0 0 0 0;\n",
              "      width: 32px;\n",
              "    }\n",
              "\n",
              "    .colab-df-convert:hover {\n",
              "      background-color: #E2EBFA;\n",
              "      box-shadow: 0px 1px 2px rgba(60, 64, 67, 0.3), 0px 1px 3px 1px rgba(60, 64, 67, 0.15);\n",
              "      fill: #174EA6;\n",
              "    }\n",
              "\n",
              "    .colab-df-buttons div {\n",
              "      margin-bottom: 4px;\n",
              "    }\n",
              "\n",
              "    [theme=dark] .colab-df-convert {\n",
              "      background-color: #3B4455;\n",
              "      fill: #D2E3FC;\n",
              "    }\n",
              "\n",
              "    [theme=dark] .colab-df-convert:hover {\n",
              "      background-color: #434B5C;\n",
              "      box-shadow: 0px 1px 3px 1px rgba(0, 0, 0, 0.15);\n",
              "      filter: drop-shadow(0px 1px 2px rgba(0, 0, 0, 0.3));\n",
              "      fill: #FFFFFF;\n",
              "    }\n",
              "  </style>\n",
              "\n",
              "    <script>\n",
              "      const buttonEl =\n",
              "        document.querySelector('#df-8a755a99-51bd-485f-902d-d324e0598fca button.colab-df-convert');\n",
              "      buttonEl.style.display =\n",
              "        google.colab.kernel.accessAllowed ? 'block' : 'none';\n",
              "\n",
              "      async function convertToInteractive(key) {\n",
              "        const element = document.querySelector('#df-8a755a99-51bd-485f-902d-d324e0598fca');\n",
              "        const dataTable =\n",
              "          await google.colab.kernel.invokeFunction('convertToInteractive',\n",
              "                                                    [key], {});\n",
              "        if (!dataTable) return;\n",
              "\n",
              "        const docLinkHtml = 'Like what you see? Visit the ' +\n",
              "          '<a target=\"_blank\" href=https://colab.research.google.com/notebooks/data_table.ipynb>data table notebook</a>'\n",
              "          + ' to learn more about interactive tables.';\n",
              "        element.innerHTML = '';\n",
              "        dataTable['output_type'] = 'display_data';\n",
              "        await google.colab.output.renderOutput(dataTable, element);\n",
              "        const docLink = document.createElement('div');\n",
              "        docLink.innerHTML = docLinkHtml;\n",
              "        element.appendChild(docLink);\n",
              "      }\n",
              "    </script>\n",
              "  </div>\n",
              "\n",
              "\n",
              "<div id=\"df-0fdc5a25-4add-4cc9-8256-4ef41cac7582\">\n",
              "  <button class=\"colab-df-quickchart\" onclick=\"quickchart('df-0fdc5a25-4add-4cc9-8256-4ef41cac7582')\"\n",
              "            title=\"Suggest charts\"\n",
              "            style=\"display:none;\">\n",
              "\n",
              "<svg xmlns=\"http://www.w3.org/2000/svg\" height=\"24px\"viewBox=\"0 0 24 24\"\n",
              "     width=\"24px\">\n",
              "    <g>\n",
              "        <path d=\"M19 3H5c-1.1 0-2 .9-2 2v14c0 1.1.9 2 2 2h14c1.1 0 2-.9 2-2V5c0-1.1-.9-2-2-2zM9 17H7v-7h2v7zm4 0h-2V7h2v10zm4 0h-2v-4h2v4z\"/>\n",
              "    </g>\n",
              "</svg>\n",
              "  </button>\n",
              "\n",
              "<style>\n",
              "  .colab-df-quickchart {\n",
              "      --bg-color: #E8F0FE;\n",
              "      --fill-color: #1967D2;\n",
              "      --hover-bg-color: #E2EBFA;\n",
              "      --hover-fill-color: #174EA6;\n",
              "      --disabled-fill-color: #AAA;\n",
              "      --disabled-bg-color: #DDD;\n",
              "  }\n",
              "\n",
              "  [theme=dark] .colab-df-quickchart {\n",
              "      --bg-color: #3B4455;\n",
              "      --fill-color: #D2E3FC;\n",
              "      --hover-bg-color: #434B5C;\n",
              "      --hover-fill-color: #FFFFFF;\n",
              "      --disabled-bg-color: #3B4455;\n",
              "      --disabled-fill-color: #666;\n",
              "  }\n",
              "\n",
              "  .colab-df-quickchart {\n",
              "    background-color: var(--bg-color);\n",
              "    border: none;\n",
              "    border-radius: 50%;\n",
              "    cursor: pointer;\n",
              "    display: none;\n",
              "    fill: var(--fill-color);\n",
              "    height: 32px;\n",
              "    padding: 0;\n",
              "    width: 32px;\n",
              "  }\n",
              "\n",
              "  .colab-df-quickchart:hover {\n",
              "    background-color: var(--hover-bg-color);\n",
              "    box-shadow: 0 1px 2px rgba(60, 64, 67, 0.3), 0 1px 3px 1px rgba(60, 64, 67, 0.15);\n",
              "    fill: var(--button-hover-fill-color);\n",
              "  }\n",
              "\n",
              "  .colab-df-quickchart-complete:disabled,\n",
              "  .colab-df-quickchart-complete:disabled:hover {\n",
              "    background-color: var(--disabled-bg-color);\n",
              "    fill: var(--disabled-fill-color);\n",
              "    box-shadow: none;\n",
              "  }\n",
              "\n",
              "  .colab-df-spinner {\n",
              "    border: 2px solid var(--fill-color);\n",
              "    border-color: transparent;\n",
              "    border-bottom-color: var(--fill-color);\n",
              "    animation:\n",
              "      spin 1s steps(1) infinite;\n",
              "  }\n",
              "\n",
              "  @keyframes spin {\n",
              "    0% {\n",
              "      border-color: transparent;\n",
              "      border-bottom-color: var(--fill-color);\n",
              "      border-left-color: var(--fill-color);\n",
              "    }\n",
              "    20% {\n",
              "      border-color: transparent;\n",
              "      border-left-color: var(--fill-color);\n",
              "      border-top-color: var(--fill-color);\n",
              "    }\n",
              "    30% {\n",
              "      border-color: transparent;\n",
              "      border-left-color: var(--fill-color);\n",
              "      border-top-color: var(--fill-color);\n",
              "      border-right-color: var(--fill-color);\n",
              "    }\n",
              "    40% {\n",
              "      border-color: transparent;\n",
              "      border-right-color: var(--fill-color);\n",
              "      border-top-color: var(--fill-color);\n",
              "    }\n",
              "    60% {\n",
              "      border-color: transparent;\n",
              "      border-right-color: var(--fill-color);\n",
              "    }\n",
              "    80% {\n",
              "      border-color: transparent;\n",
              "      border-right-color: var(--fill-color);\n",
              "      border-bottom-color: var(--fill-color);\n",
              "    }\n",
              "    90% {\n",
              "      border-color: transparent;\n",
              "      border-bottom-color: var(--fill-color);\n",
              "    }\n",
              "  }\n",
              "</style>\n",
              "\n",
              "  <script>\n",
              "    async function quickchart(key) {\n",
              "      const quickchartButtonEl =\n",
              "        document.querySelector('#' + key + ' button');\n",
              "      quickchartButtonEl.disabled = true;  // To prevent multiple clicks.\n",
              "      quickchartButtonEl.classList.add('colab-df-spinner');\n",
              "      try {\n",
              "        const charts = await google.colab.kernel.invokeFunction(\n",
              "            'suggestCharts', [key], {});\n",
              "      } catch (error) {\n",
              "        console.error('Error during call to suggestCharts:', error);\n",
              "      }\n",
              "      quickchartButtonEl.classList.remove('colab-df-spinner');\n",
              "      quickchartButtonEl.classList.add('colab-df-quickchart-complete');\n",
              "    }\n",
              "    (() => {\n",
              "      let quickchartButtonEl =\n",
              "        document.querySelector('#df-0fdc5a25-4add-4cc9-8256-4ef41cac7582 button');\n",
              "      quickchartButtonEl.style.display =\n",
              "        google.colab.kernel.accessAllowed ? 'block' : 'none';\n",
              "    })();\n",
              "  </script>\n",
              "</div>\n",
              "    </div>\n",
              "  </div>\n"
            ]
          },
          "metadata": {},
          "execution_count": 5
        }
      ]
    },
    {
      "cell_type": "markdown",
      "source": [
        "# Unsupervised learning in Sentiment Analysis\n",
        "Using Vader NLP model."
      ],
      "metadata": {
        "id": "fS1oiNgTbMxf"
      }
    },
    {
      "cell_type": "code",
      "source": [
        "analyzer = SentimentIntensityAnalyzer()"
      ],
      "metadata": {
        "id": "4Zci3dfQbXSk"
      },
      "execution_count": 6,
      "outputs": []
    },
    {
      "cell_type": "code",
      "source": [
        "def sentiment_analyzer_scores(sentence, printable_output:True):\n",
        "    score = analyzer.polarity_scores(sentence)\n",
        "    if printable_output:\n",
        "        print(\"{:-<40} {}\".format(sentence, str(score)))\n",
        "    return score['compound']"
      ],
      "metadata": {
        "id": "HdUO2HDU5ujU"
      },
      "execution_count": 7,
      "outputs": []
    },
    {
      "cell_type": "code",
      "source": [
        "# TESTING THE SENTIMENT_ANALYZER with ambiguous sentences\n",
        "sentiment_analyzer_scores('yo this kinda a bop😜😍 ', True) #this is probably sarcasm but also ambiguous\n",
        "sentiment_analyzer_scores('Really nice caitleen, next time pull out a whole piano to sing your song', True)\n",
        "#unfortunately, the last sarcastic sentence is not evaluated as negative. It's sarcastic because of elements of overly positive complimenting \"really nice <name>, next time do x exaggerating it\"\n",
        "sentiment_analyzer_scores('this cannot be real come on', True) #also this is not evaluated in any way, but it is ambiguous.\n",
        "sentiment_analyzer_scores(\"This sentence is really hateful and stupid, horrible, disgusting. I am happy and I am so grateful for this sentence instead. Now it is rather something, without further explanation, neutral.\",\n",
        "                          printable_output = True)\n"
      ],
      "metadata": {
        "id": "5_AjdMxlbcn9",
        "colab": {
          "base_uri": "https://localhost:8080/"
        },
        "outputId": "49a2b453-7310-42fe-b5dc-0c5fe806d07b"
      },
      "execution_count": 8,
      "outputs": [
        {
          "output_type": "stream",
          "name": "stdout",
          "text": [
            "yo this kinda a bop😜😍 ------------------ {'neg': 0.0, 'neu': 0.8, 'pos': 0.2, 'compound': 0.4588}\n",
            "Really nice caitleen, next time pull out a whole piano to sing your song {'neg': 0.0, 'neu': 0.808, 'pos': 0.192, 'compound': 0.4754}\n",
            "this cannot be real come on------------- {'neg': 0.0, 'neu': 1.0, 'pos': 0.0, 'compound': 0.0}\n",
            "This sentence is really hateful and stupid, horrible, disgusting. I am happy and I am so grateful for this sentence instead. Now it is rather something, without further explanation, neutral. {'neg': 0.304, 'neu': 0.476, 'pos': 0.22, 'compound': -0.7087}\n"
          ]
        },
        {
          "output_type": "execute_result",
          "data": {
            "text/plain": [
              "-0.7087"
            ]
          },
          "metadata": {},
          "execution_count": 8
        }
      ]
    },
    {
      "cell_type": "code",
      "source": [
        "clean_data['COMPOUND'] = clean_data['COMMENT'].apply(sentiment_analyzer_scores, printable_output = False)"
      ],
      "metadata": {
        "id": "0BoJQUYTgpxI"
      },
      "execution_count": 9,
      "outputs": []
    },
    {
      "cell_type": "code",
      "source": [
        "plt.hist(clean_data['COMPOUND'], bins = 50)\n",
        "plt.show()"
      ],
      "metadata": {
        "colab": {
          "base_uri": "https://localhost:8080/",
          "height": 430
        },
        "id": "KOnPppXTlX9A",
        "outputId": "fe0f98c8-531b-4ca2-daf6-8c157d341529"
      },
      "execution_count": 10,
      "outputs": [
        {
          "output_type": "display_data",
          "data": {
            "text/plain": [
              "<Figure size 640x480 with 1 Axes>"
            ],
            "image/png": "[encoded data removed]"
          },
          "metadata": {}
        }
      ]
    },
    {
      "cell_type": "code",
      "source": [
        "clean_data['LABEL'] = clean_data['COMPOUND'].apply(lambda x: 'neg' if x <= -0.05 else ('pos' if x >= 0.05 else 'neu'))\n",
        "clean_data['LENGTH'] = clean_data['COMMENT'].apply(lambda text: len([el if el != ' ' and el !=  'br' else None for el in text.split(' ')]))"
      ],
      "metadata": {
        "id": "diR_13JAm3c-"
      },
      "execution_count": 11,
      "outputs": []
    },
    {
      "cell_type": "code",
      "source": [
        "clean_data = clean_data.sort_values(by='COMPOUND', ascending=True)"
      ],
      "metadata": {
        "id": "AGmRfa-BYist"
      },
      "execution_count": 12,
      "outputs": []
    },
    {
      "cell_type": "code",
      "source": [
        "most_common = [i[0] for i in Counter(clean_data['COMMENT'].values).most_common(150)]"
      ],
      "metadata": {
        "id": "zcFXMpBKl-QK"
      },
      "execution_count": 13,
      "outputs": []
    },
    {
      "cell_type": "code",
      "source": [
        "most_common"
      ],
      "metadata": {
        "colab": {
          "base_uri": "https://localhost:8080/"
        },
        "id": "Alr85XkAJtor",
        "outputId": "adbe7fe9-947e-4798-de33-5486c7aeec28"
      },
      "execution_count": 14,
      "outputs": [
        {
          "output_type": "execute_result",
          "data": {
            "text/plain": [
              "['❤',\n",
              " 'yikes',\n",
              " '❤❤❤',\n",
              " 'girl what',\n",
              " 'oh',\n",
              " 'what the fuck',\n",
              " 'i love you colleen',\n",
              " 'hi',\n",
              " 'what',\n",
              " 'girl',\n",
              " 'girl what is this',\n",
              " 'i love you',\n",
              " 'girl…',\n",
              " 'yikes ',\n",
              " 'bruh',\n",
              " 'what the fuck is this',\n",
              " 'no way',\n",
              " 'girl ',\n",
              " 'what is this',\n",
              " 'what the hell is this',\n",
              " 'girl what the fuck',\n",
              " 'oh no',\n",
              " 'chat is this real',\n",
              " '❤️',\n",
              " 'omg',\n",
              " 'this has to be a joke',\n",
              " 'lol',\n",
              " 'lmao',\n",
              " '❤❤',\n",
              " 'love you colleen ❤',\n",
              " 'this is unhinged',\n",
              " 'this cannot be real',\n",
              " 'wow',\n",
              " 'love you colleen!',\n",
              " '❤❤❤❤',\n",
              " '❤❤❤❤❤',\n",
              " 'what the hell',\n",
              " 'girl what the fuck is this',\n",
              " 'i missed you',\n",
              " 'bye ',\n",
              " 'what?',\n",
              " 'oof',\n",
              " 'um',\n",
              " 'first',\n",
              " 'girl   ',\n",
              " 'you cannot be serious',\n",
              " 'what a joke',\n",
              " 'love you colleen ❤️',\n",
              " 'love you colleen',\n",
              " 'we love you colleen',\n",
              " 'i love you ❤',\n",
              " 'oh hell no',\n",
              " 'girl what the hell',\n",
              " 'pathetic',\n",
              " 'what the actual fuck',\n",
              " 'what is wrong with you',\n",
              " 'weirdo',\n",
              " 'ain’t no way',\n",
              " 'there’s no way this is real',\n",
              " 'is this real',\n",
              " 'queen',\n",
              " ' 3',\n",
              " 'shut up',\n",
              " 'lmfaooo',\n",
              " '🍅🍅🍅🍅🍅🍅',\n",
              " 'lmaoooo',\n",
              " '❤️❤️❤️',\n",
              " 'girl bffr',\n",
              " 'aint no way',\n",
              " 'oh my god',\n",
              " 'is this a joke?',\n",
              " 'oh wow',\n",
              " 'i love you ',\n",
              " 'i love you colleen ',\n",
              " 'love you',\n",
              " 'i love you colleen ❤',\n",
              " '❤❤❤❤❤❤',\n",
              " 'holy shit',\n",
              " 'what  the  fuck ',\n",
              " 'what the fuck is this 💀',\n",
              " 'yikes 😬',\n",
              " 'no',\n",
              " 'girl no',\n",
              " 'no fucking way',\n",
              " 'no way this is real',\n",
              " 'no fucking way this is real',\n",
              " 'ur weird',\n",
              " 'oh…',\n",
              " 'delusional',\n",
              " 'girl… ',\n",
              " 'womp womp',\n",
              " 'lmfaooooo',\n",
              " '   ',\n",
              " 'girl    ',\n",
              " 'is the accountability in the room with us?',\n",
              " 'hii',\n",
              " 'ijbol',\n",
              " 'this is wild',\n",
              " 'this can’t be real',\n",
              " 'this is so millennial',\n",
              " '… ',\n",
              " 'bffr',\n",
              " 'oh my',\n",
              " 'not the ukulele',\n",
              " 'jail',\n",
              " 'girl…  ',\n",
              " '🍅🍅🍅🍅🍅',\n",
              " 'hiiiii',\n",
              " 'be so fucking fr',\n",
              " 'hi colleen',\n",
              " 'ew',\n",
              " 'oh!',\n",
              " 'chat is this real?',\n",
              " 'this is so unserious',\n",
              " '?',\n",
              " 'is this real life',\n",
              " 'what ',\n",
              " ' ',\n",
              " 'are you kidding me',\n",
              " 'are you fucking kidding me?',\n",
              " 'ok',\n",
              " 'lmfao',\n",
              " 'wow ',\n",
              " '💜',\n",
              " 'i love u',\n",
              " 'what is this lmao',\n",
              " 'wow  just wow ',\n",
              " '😂😂😂😂😂',\n",
              " '❤❤❤❤❤❤❤',\n",
              " 'what the hell 🔥🔥🔥',\n",
              " 'what the hell ',\n",
              " 'girl what the hell is this',\n",
              " 'now what the hell is this',\n",
              " 'wtf is this',\n",
              " 'grown ass woman',\n",
              " 'what the fuck?',\n",
              " 'disgusting',\n",
              " 'this is disturbing',\n",
              " 'what is wrong with you?',\n",
              " 'girl what is wrong with you',\n",
              " 'this made me cry',\n",
              " 'girl what is this😭',\n",
              " 'girl what😭',\n",
              " 'girl what 😭',\n",
              " 'you should be ashamed of yourself ',\n",
              " 'im scared',\n",
              " 'i’ve missed you!!',\n",
              " 'girl what the hell is this 😂',\n",
              " 'damn',\n",
              " 'missed you!']"
            ]
          },
          "metadata": {},
          "execution_count": 14
        }
      ]
    },
    {
      "cell_type": "code",
      "source": [
        "p = ggplot(data=clean_data, mapping=aes(y='COMPOUND', x='LENGTH')) + \\\n",
        "    geom_point() + \\\n",
        "    labs(title='Compound score and length of the comment\\'s distribution', y='COMPOUND', x='LENGTH')\n",
        "print(p)\n"
      ],
      "metadata": {
        "id": "pRfZxUK_ZTfU",
        "colab": {
          "base_uri": "https://localhost:8080/",
          "height": 514
        },
        "outputId": "e479052d-aa63-48ef-d2e3-b5c70e4745e2"
      },
      "execution_count": 15,
      "outputs": [
        {
          "output_type": "display_data",
          "data": {
            "text/plain": [
              "<Figure size 640x480 with 1 Axes>"
            ],
            "image/png": "[encoded data removed]"
          },
          "metadata": {
            "image/png": {
              "width": 640,
              "height": 480
            }
          }
        },
        {
          "output_type": "stream",
          "name": "stdout",
          "text": [
            "\n"
          ]
        }
      ]
    },
    {
      "cell_type": "code",
      "source": [],
      "metadata": {
        "id": "4KkDnYFNGHQd"
      },
      "execution_count": 15,
      "outputs": []
    },
    {
      "cell_type": "code",
      "source": [
        "r = np.corrcoef(clean_data['COMPOUND'], clean_data['LENGTH'])\n",
        "print(\"The correlation coefficient between length and compound score is:\" + str(r[0, 1])[:6]) #Thankfully, there is little correlation between length and compound.\n",
        "# Below you can see there are few comments that make it above 200 words, but they are not spam and are actually very useful for this analysis.\n",
        "# there are a few spam comments but they don't do much harm to the research,\n",
        "# question, as the spam was meant to be offensive or very positive as a reaction to the video and not to change topic.\n"
      ],
      "metadata": {
        "colab": {
          "base_uri": "https://localhost:8080/"
        },
        "id": "WRv-WqKVGcFL",
        "outputId": "58ab2763-1a4e-4470-ae84-82eb41ad0a9e"
      },
      "execution_count": 16,
      "outputs": [
        {
          "output_type": "stream",
          "name": "stdout",
          "text": [
            "The correlation coefficient between length and compound score is:0.1635\n"
          ]
        }
      ]
    },
    {
      "cell_type": "code",
      "source": [
        "clean_data"
      ],
      "metadata": {
        "colab": {
          "base_uri": "https://localhost:8080/",
          "height": 424
        },
        "id": "DxzYf_jYKmSo",
        "outputId": "c14aed31-14cb-4dff-b4c8-b0bad210d6a1"
      },
      "execution_count": 17,
      "outputs": [
        {
          "output_type": "execute_result",
          "data": {
            "text/plain": [
              "                                                COMMENT  COMPOUND LABEL  \\\n",
              "5269                      what 😭😭😭😭😭😭😭😭😭😭😭😭😭😭😭😭😭😭😭😭😭😭😭😭   -0.9971   neg   \n",
              "455            the ukelele is killing me 😭😭😭😭😭😭😭😭😭😭😭😭😭😭   -0.9931   neg   \n",
              "6958   first  every single person in this situation ...   -0.9896   neg   \n",
              "7569  seems like people forget there are two sides t...   -0.9890   neg   \n",
              "2805  perhaps the comments people are saying about y...   -0.9857   neg   \n",
              "...                                                 ...       ...   ...   \n",
              "2313  all i want to say is… all i need to say is…   ...    0.9986   pos   \n",
              "1086  i love you colleen  i don t care about what pe...    0.9987   pos   \n",
              "7604  i love you i love youi love youi love youi lov...    0.9999   pos   \n",
              "5758  sending so much love ❤❤❤❤❤❤❤❤❤❤❤❤❤❤❤❤❤❤❤❤❤❤❤❤❤...    0.9999   pos   \n",
              "4268  colleen i’m sorry for all those things people ...    0.9999   pos   \n",
              "\n",
              "      LENGTH  \n",
              "5269       2  \n",
              "455        6  \n",
              "6958     212  \n",
              "7569     257  \n",
              "2805     132  \n",
              "...      ...  \n",
              "2313      18  \n",
              "1086      27  \n",
              "7604     178  \n",
              "5758       5  \n",
              "4268     306  \n",
              "\n",
              "[10047 rows x 4 columns]"
            ],
            "text/html": [
              "\n",
              "  <div id=\"df-41dfcaab-1630-47c4-a99c-373b3be1363b\" class=\"colab-df-container\">\n",
              "    <div>\n",
              "<style scoped>\n",
              "    .dataframe tbody tr th:only-of-type {\n",
              "        vertical-align: middle;\n",
              "    }\n",
              "\n",
              "    .dataframe tbody tr th {\n",
              "        vertical-align: top;\n",
              "    }\n",
              "\n",
              "    .dataframe thead th {\n",
              "        text-align: right;\n",
              "    }\n",
              "</style>\n",
              "<table border=\"1\" class=\"dataframe\">\n",
              "  <thead>\n",
              "    <tr style=\"text-align: right;\">\n",
              "      <th></th>\n",
              "      <th>COMMENT</th>\n",
              "      <th>COMPOUND</th>\n",
              "      <th>LABEL</th>\n",
              "      <th>LENGTH</th>\n",
              "    </tr>\n",
              "  </thead>\n",
              "  <tbody>\n",
              "    <tr>\n",
              "      <th>5269</th>\n",
              "      <td>what 😭😭😭😭😭😭😭😭😭😭😭😭😭😭😭😭😭😭😭😭😭😭😭😭</td>\n",
              "      <td>-0.9971</td>\n",
              "      <td>neg</td>\n",
              "      <td>2</td>\n",
              "    </tr>\n",
              "    <tr>\n",
              "      <th>455</th>\n",
              "      <td>the ukelele is killing me 😭😭😭😭😭😭😭😭😭😭😭😭😭😭</td>\n",
              "      <td>-0.9931</td>\n",
              "      <td>neg</td>\n",
              "      <td>6</td>\n",
              "    </tr>\n",
              "    <tr>\n",
              "      <th>6958</th>\n",
              "      <td>first  every single person in this situation ...</td>\n",
              "      <td>-0.9896</td>\n",
              "      <td>neg</td>\n",
              "      <td>212</td>\n",
              "    </tr>\n",
              "    <tr>\n",
              "      <th>7569</th>\n",
              "      <td>seems like people forget there are two sides t...</td>\n",
              "      <td>-0.9890</td>\n",
              "      <td>neg</td>\n",
              "      <td>257</td>\n",
              "    </tr>\n",
              "    <tr>\n",
              "      <th>2805</th>\n",
              "      <td>perhaps the comments people are saying about y...</td>\n",
              "      <td>-0.9857</td>\n",
              "      <td>neg</td>\n",
              "      <td>132</td>\n",
              "    </tr>\n",
              "    <tr>\n",
              "      <th>...</th>\n",
              "      <td>...</td>\n",
              "      <td>...</td>\n",
              "      <td>...</td>\n",
              "      <td>...</td>\n",
              "    </tr>\n",
              "    <tr>\n",
              "      <th>2313</th>\n",
              "      <td>all i want to say is… all i need to say is…   ...</td>\n",
              "      <td>0.9986</td>\n",
              "      <td>pos</td>\n",
              "      <td>18</td>\n",
              "    </tr>\n",
              "    <tr>\n",
              "      <th>1086</th>\n",
              "      <td>i love you colleen  i don t care about what pe...</td>\n",
              "      <td>0.9987</td>\n",
              "      <td>pos</td>\n",
              "      <td>27</td>\n",
              "    </tr>\n",
              "    <tr>\n",
              "      <th>7604</th>\n",
              "      <td>i love you i love youi love youi love youi lov...</td>\n",
              "      <td>0.9999</td>\n",
              "      <td>pos</td>\n",
              "      <td>178</td>\n",
              "    </tr>\n",
              "    <tr>\n",
              "      <th>5758</th>\n",
              "      <td>sending so much love ❤❤❤❤❤❤❤❤❤❤❤❤❤❤❤❤❤❤❤❤❤❤❤❤❤...</td>\n",
              "      <td>0.9999</td>\n",
              "      <td>pos</td>\n",
              "      <td>5</td>\n",
              "    </tr>\n",
              "    <tr>\n",
              "      <th>4268</th>\n",
              "      <td>colleen i’m sorry for all those things people ...</td>\n",
              "      <td>0.9999</td>\n",
              "      <td>pos</td>\n",
              "      <td>306</td>\n",
              "    </tr>\n",
              "  </tbody>\n",
              "</table>\n",
              "<p>10047 rows × 4 columns</p>\n",
              "</div>\n",
              "    <div class=\"colab-df-buttons\">\n",
              "\n",
              "  <div class=\"colab-df-container\">\n",
              "    <button class=\"colab-df-convert\" onclick=\"convertToInteractive('df-41dfcaab-1630-47c4-a99c-373b3be1363b')\"\n",
              "            title=\"Convert this dataframe to an interactive table.\"\n",
              "            style=\"display:none;\">\n",
              "\n",
              "  <svg xmlns=\"http://www.w3.org/2000/svg\" height=\"24px\" viewBox=\"0 -960 960 960\">\n",
              "    <path d=\"M120-120v-720h720v720H120Zm60-500h600v-160H180v160Zm220 220h160v-160H400v160Zm0 220h160v-160H400v160ZM180-400h160v-160H180v160Zm440 0h160v-160H620v160ZM180-180h160v-160H180v160Zm440 0h160v-160H620v160Z\"/>\n",
              "  </svg>\n",
              "    </button>\n",
              "\n",
              "  <style>\n",
              "    .colab-df-container {\n",
              "      display:flex;\n",
              "      gap: 12px;\n",
              "    }\n",
              "\n",
              "    .colab-df-convert {\n",
              "      background-color: #E8F0FE;\n",
              "      border: none;\n",
              "      border-radius: 50%;\n",
              "      cursor: pointer;\n",
              "      display: none;\n",
              "      fill: #1967D2;\n",
              "      height: 32px;\n",
              "      padding: 0 0 0 0;\n",
              "      width: 32px;\n",
              "    }\n",
              "\n",
              "    .colab-df-convert:hover {\n",
              "      background-color: #E2EBFA;\n",
              "      box-shadow: 0px 1px 2px rgba(60, 64, 67, 0.3), 0px 1px 3px 1px rgba(60, 64, 67, 0.15);\n",
              "      fill: #174EA6;\n",
              "    }\n",
              "\n",
              "    .colab-df-buttons div {\n",
              "      margin-bottom: 4px;\n",
              "    }\n",
              "\n",
              "    [theme=dark] .colab-df-convert {\n",
              "      background-color: #3B4455;\n",
              "      fill: #D2E3FC;\n",
              "    }\n",
              "\n",
              "    [theme=dark] .colab-df-convert:hover {\n",
              "      background-color: #434B5C;\n",
              "      box-shadow: 0px 1px 3px 1px rgba(0, 0, 0, 0.15);\n",
              "      filter: drop-shadow(0px 1px 2px rgba(0, 0, 0, 0.3));\n",
              "      fill: #FFFFFF;\n",
              "    }\n",
              "  </style>\n",
              "\n",
              "    <script>\n",
              "      const buttonEl =\n",
              "        document.querySelector('#df-41dfcaab-1630-47c4-a99c-373b3be1363b button.colab-df-convert');\n",
              "      buttonEl.style.display =\n",
              "        google.colab.kernel.accessAllowed ? 'block' : 'none';\n",
              "\n",
              "      async function convertToInteractive(key) {\n",
              "        const element = document.querySelector('#df-41dfcaab-1630-47c4-a99c-373b3be1363b');\n",
              "        const dataTable =\n",
              "          await google.colab.kernel.invokeFunction('convertToInteractive',\n",
              "                                                    [key], {});\n",
              "        if (!dataTable) return;\n",
              "\n",
              "        const docLinkHtml = 'Like what you see? Visit the ' +\n",
              "          '<a target=\"_blank\" href=https://colab.research.google.com/notebooks/data_table.ipynb>data table notebook</a>'\n",
              "          + ' to learn more about interactive tables.';\n",
              "        element.innerHTML = '';\n",
              "        dataTable['output_type'] = 'display_data';\n",
              "        await google.colab.output.renderOutput(dataTable, element);\n",
              "        const docLink = document.createElement('div');\n",
              "        docLink.innerHTML = docLinkHtml;\n",
              "        element.appendChild(docLink);\n",
              "      }\n",
              "    </script>\n",
              "  </div>\n",
              "\n",
              "\n",
              "<div id=\"df-9a345923-9322-4a4e-b33e-651f4251c5ac\">\n",
              "  <button class=\"colab-df-quickchart\" onclick=\"quickchart('df-9a345923-9322-4a4e-b33e-651f4251c5ac')\"\n",
              "            title=\"Suggest charts\"\n",
              "            style=\"display:none;\">\n",
              "\n",
              "<svg xmlns=\"http://www.w3.org/2000/svg\" height=\"24px\"viewBox=\"0 0 24 24\"\n",
              "     width=\"24px\">\n",
              "    <g>\n",
              "        <path d=\"M19 3H5c-1.1 0-2 .9-2 2v14c0 1.1.9 2 2 2h14c1.1 0 2-.9 2-2V5c0-1.1-.9-2-2-2zM9 17H7v-7h2v7zm4 0h-2V7h2v10zm4 0h-2v-4h2v4z\"/>\n",
              "    </g>\n",
              "</svg>\n",
              "  </button>\n",
              "\n",
              "<style>\n",
              "  .colab-df-quickchart {\n",
              "      --bg-color: #E8F0FE;\n",
              "      --fill-color: #1967D2;\n",
              "      --hover-bg-color: #E2EBFA;\n",
              "      --hover-fill-color: #174EA6;\n",
              "      --disabled-fill-color: #AAA;\n",
              "      --disabled-bg-color: #DDD;\n",
              "  }\n",
              "\n",
              "  [theme=dark] .colab-df-quickchart {\n",
              "      --bg-color: #3B4455;\n",
              "      --fill-color: #D2E3FC;\n",
              "      --hover-bg-color: #434B5C;\n",
              "      --hover-fill-color: #FFFFFF;\n",
              "      --disabled-bg-color: #3B4455;\n",
              "      --disabled-fill-color: #666;\n",
              "  }\n",
              "\n",
              "  .colab-df-quickchart {\n",
              "    background-color: var(--bg-color);\n",
              "    border: none;\n",
              "    border-radius: 50%;\n",
              "    cursor: pointer;\n",
              "    display: none;\n",
              "    fill: var(--fill-color);\n",
              "    height: 32px;\n",
              "    padding: 0;\n",
              "    width: 32px;\n",
              "  }\n",
              "\n",
              "  .colab-df-quickchart:hover {\n",
              "    background-color: var(--hover-bg-color);\n",
              "    box-shadow: 0 1px 2px rgba(60, 64, 67, 0.3), 0 1px 3px 1px rgba(60, 64, 67, 0.15);\n",
              "    fill: var(--button-hover-fill-color);\n",
              "  }\n",
              "\n",
              "  .colab-df-quickchart-complete:disabled,\n",
              "  .colab-df-quickchart-complete:disabled:hover {\n",
              "    background-color: var(--disabled-bg-color);\n",
              "    fill: var(--disabled-fill-color);\n",
              "    box-shadow: none;\n",
              "  }\n",
              "\n",
              "  .colab-df-spinner {\n",
              "    border: 2px solid var(--fill-color);\n",
              "    border-color: transparent;\n",
              "    border-bottom-color: var(--fill-color);\n",
              "    animation:\n",
              "      spin 1s steps(1) infinite;\n",
              "  }\n",
              "\n",
              "  @keyframes spin {\n",
              "    0% {\n",
              "      border-color: transparent;\n",
              "      border-bottom-color: var(--fill-color);\n",
              "      border-left-color: var(--fill-color);\n",
              "    }\n",
              "    20% {\n",
              "      border-color: transparent;\n",
              "      border-left-color: var(--fill-color);\n",
              "      border-top-color: var(--fill-color);\n",
              "    }\n",
              "    30% {\n",
              "      border-color: transparent;\n",
              "      border-left-color: var(--fill-color);\n",
              "      border-top-color: var(--fill-color);\n",
              "      border-right-color: var(--fill-color);\n",
              "    }\n",
              "    40% {\n",
              "      border-color: transparent;\n",
              "      border-right-color: var(--fill-color);\n",
              "      border-top-color: var(--fill-color);\n",
              "    }\n",
              "    60% {\n",
              "      border-color: transparent;\n",
              "      border-right-color: var(--fill-color);\n",
              "    }\n",
              "    80% {\n",
              "      border-color: transparent;\n",
              "      border-right-color: var(--fill-color);\n",
              "      border-bottom-color: var(--fill-color);\n",
              "    }\n",
              "    90% {\n",
              "      border-color: transparent;\n",
              "      border-bottom-color: var(--fill-color);\n",
              "    }\n",
              "  }\n",
              "</style>\n",
              "\n",
              "  <script>\n",
              "    async function quickchart(key) {\n",
              "      const quickchartButtonEl =\n",
              "        document.querySelector('#' + key + ' button');\n",
              "      quickchartButtonEl.disabled = true;  // To prevent multiple clicks.\n",
              "      quickchartButtonEl.classList.add('colab-df-spinner');\n",
              "      try {\n",
              "        const charts = await google.colab.kernel.invokeFunction(\n",
              "            'suggestCharts', [key], {});\n",
              "      } catch (error) {\n",
              "        console.error('Error during call to suggestCharts:', error);\n",
              "      }\n",
              "      quickchartButtonEl.classList.remove('colab-df-spinner');\n",
              "      quickchartButtonEl.classList.add('colab-df-quickchart-complete');\n",
              "    }\n",
              "    (() => {\n",
              "      let quickchartButtonEl =\n",
              "        document.querySelector('#df-9a345923-9322-4a4e-b33e-651f4251c5ac button');\n",
              "      quickchartButtonEl.style.display =\n",
              "        google.colab.kernel.accessAllowed ? 'block' : 'none';\n",
              "    })();\n",
              "  </script>\n",
              "</div>\n",
              "    </div>\n",
              "  </div>\n"
            ]
          },
          "metadata": {},
          "execution_count": 17
        }
      ]
    },
    {
      "cell_type": "code",
      "source": [
        "p = (ggplot(clean_data, aes('LENGTH')) +\n",
        "     geom_bar() +\n",
        "     labs(title='Length distribution of the comments')\n",
        ")\n",
        "print(p, r)"
      ],
      "metadata": {
        "colab": {
          "base_uri": "https://localhost:8080/",
          "height": 532
        },
        "id": "V-LTOgCPIgKD",
        "outputId": "7ee4e637-ab5e-4d0c-faf3-65490292ac4e"
      },
      "execution_count": 18,
      "outputs": [
        {
          "output_type": "display_data",
          "data": {
            "text/plain": [
              "<Figure size 640x480 with 1 Axes>"
            ],
            "image/png": "[encoded data removed]"
          },
          "metadata": {
            "image/png": {
              "width": 640,
              "height": 480
            }
          }
        },
        {
          "output_type": "stream",
          "name": "stdout",
          "text": [
            " [[1.         0.16359391]\n",
            " [0.16359391 1.        ]]\n"
          ]
        }
      ]
    },
    {
      "cell_type": "markdown",
      "source": [
        "# Ground truth\n",
        "To evaluate, I will make ground truth using my own perception of comments. I am aware that my perception might differ from what the authors of the comments have meant, but my perception is by far still better than this model as I could tell.\n",
        "\n",
        "Sarcasm went often unnoticed - even when it was pretty offensive, take this example:\n",
        "- \"she really thought she ate omg 😂🤡🤡\".\n",
        "\n",
        "It's sarcastic and slang to say that \"she [the youtuber] thought she did a good job, oh my god [laughing emoji, clown emoji twice]\". Using the clown emoji and using sarcasm went unnoticed, and it had $0.44$ on a scale from $-1$ (negative) to $1$ (positive) as compound score made from negative, neutral and positive scores attributed.\n",
        "\n",
        "Personally, I believe this model is biased towards negative comments and tends to pick them up as positive even when to humans they could be seen as subtly negative or sarcastic."
      ],
      "metadata": {
        "id": "Lp6wX3lZ7VTf"
      }
    },
    {
      "cell_type": "markdown",
      "source": [
        "# Sampling original comments for human annotation\n",
        "In order to annotate comments, I need to have the original version with all the punctuation and especially if they used caps lock (which has a different tone of voice), as those elements actually help me better understand the feeling of the original commentor.\n"
      ],
      "metadata": {
        "id": "H0WAbB-6hGZm"
      }
    },
    {
      "cell_type": "code",
      "source": [
        "with open(\"/content/drive/MyDrive/ColabNotebooks for NLP and other ML/StrongInternetLanguage/raw_comments.json\", \"r\") as f:\n",
        "    to_sample = json.load(f)\n",
        "    to_sample = pd.DataFrame(to_sample.values())"
      ],
      "metadata": {
        "id": "RHqthvlZhDRj"
      },
      "execution_count": 19,
      "outputs": []
    },
    {
      "cell_type": "code",
      "source": [
        "sample = to_sample.sample(n=1000, replace=False, random_state=25) #25 is the seed\n",
        "#sample.to_csv('/content/drive/MyDrive/ColabNotebooks for NLP and other ML/StrongInternetLanguage/sample_for_groundtruth.csv', index=True)"
      ],
      "metadata": {
        "id": "uFgApSLmQyqH"
      },
      "execution_count": 20,
      "outputs": []
    },
    {
      "cell_type": "markdown",
      "source": [],
      "metadata": {
        "id": "UI8VA2-SEyx6"
      }
    },
    {
      "cell_type": "markdown",
      "source": [
        "# Evaluation"
      ],
      "metadata": {
        "id": "1jmyU_fNE0tk"
      }
    },
    {
      "cell_type": "code",
      "source": [
        "test = pd.read_csv(\"/content/drive/MyDrive/ColabNotebooks for NLP and other ML/StrongInternetLanguage/BACKUP annotations.csv\",\n",
        "                         header=0, lineterminator='\\n', usecols=[\"Semantic evaluation\", 'User ID'], index_col=['User ID'])"
      ],
      "metadata": {
        "id": "MK94faz1FAcN"
      },
      "execution_count": 21,
      "outputs": []
    },
    {
      "cell_type": "code",
      "source": [
        "test['Comments'] = sample[0]\n",
        "test = test.reset_index()"
      ],
      "metadata": {
        "id": "38q6hdVaRU5I"
      },
      "execution_count": 22,
      "outputs": []
    },
    {
      "cell_type": "code",
      "source": [
        "to_save = test.reset_index()[['Semantic evaluation', 'Comments']]\n",
        "to_save.to_csv(\"/content/drive/MyDrive/ColabNotebooks for NLP and other ML/StrongInternetLanguage/annotations.csv\")"
      ],
      "metadata": {
        "id": "UVpj0s8dGqFP"
      },
      "execution_count": 23,
      "outputs": []
    },
    {
      "cell_type": "code",
      "source": [
        "to_save"
      ],
      "metadata": {
        "colab": {
          "base_uri": "https://localhost:8080/",
          "height": 424
        },
        "id": "-IItdVyO3kz1",
        "outputId": "280573d7-e53f-483e-ea45-30f49f6a54ce"
      },
      "execution_count": 24,
      "outputs": [
        {
          "output_type": "execute_result",
          "data": {
            "text/plain": [
              "     Semantic evaluation                                           Comments\n",
              "0                   -1.0                                   GIRL REALLY?????\n",
              "1                    1.0               Idk what she did. But i forgive her.\n",
              "2                   -1.0              there’s literally no way this is real\n",
              "3                   -1.0  I vote this the BEST APOLOGY VIDEO of all time...\n",
              "4                   -1.0  new worst YouTube apology vid dropped. Laura l...\n",
              "..                   ...                                                ...\n",
              "995                 -1.0                       oh she’s done done now fr fr\n",
              "996                 -1.0                          Gabbie Hanna is that you?\n",
              "997                  1.0  Colleen we've never met in person but I got to...\n",
              "998                 -1.0  I don’t like how she victimizes herself the wh...\n",
              "999                 -1.0  Literally what is wrong with you you only care...\n",
              "\n",
              "[1000 rows x 2 columns]"
            ],
            "text/html": [
              "\n",
              "  <div id=\"df-28dce769-c161-4b37-9297-8cfc0f1f1bfd\" class=\"colab-df-container\">\n",
              "    <div>\n",
              "<style scoped>\n",
              "    .dataframe tbody tr th:only-of-type {\n",
              "        vertical-align: middle;\n",
              "    }\n",
              "\n",
              "    .dataframe tbody tr th {\n",
              "        vertical-align: top;\n",
              "    }\n",
              "\n",
              "    .dataframe thead th {\n",
              "        text-align: right;\n",
              "    }\n",
              "</style>\n",
              "<table border=\"1\" class=\"dataframe\">\n",
              "  <thead>\n",
              "    <tr style=\"text-align: right;\">\n",
              "      <th></th>\n",
              "      <th>Semantic evaluation</th>\n",
              "      <th>Comments</th>\n",
              "    </tr>\n",
              "  </thead>\n",
              "  <tbody>\n",
              "    <tr>\n",
              "      <th>0</th>\n",
              "      <td>-1.0</td>\n",
              "      <td>GIRL REALLY?????</td>\n",
              "    </tr>\n",
              "    <tr>\n",
              "      <th>1</th>\n",
              "      <td>1.0</td>\n",
              "      <td>Idk what she did. But i forgive her.</td>\n",
              "    </tr>\n",
              "    <tr>\n",
              "      <th>2</th>\n",
              "      <td>-1.0</td>\n",
              "      <td>there’s literally no way this is real</td>\n",
              "    </tr>\n",
              "    <tr>\n",
              "      <th>3</th>\n",
              "      <td>-1.0</td>\n",
              "      <td>I vote this the BEST APOLOGY VIDEO of all time...</td>\n",
              "    </tr>\n",
              "    <tr>\n",
              "      <th>4</th>\n",
              "      <td>-1.0</td>\n",
              "      <td>new worst YouTube apology vid dropped. Laura l...</td>\n",
              "    </tr>\n",
              "    <tr>\n",
              "      <th>...</th>\n",
              "      <td>...</td>\n",
              "      <td>...</td>\n",
              "    </tr>\n",
              "    <tr>\n",
              "      <th>995</th>\n",
              "      <td>-1.0</td>\n",
              "      <td>oh she’s done done now fr fr</td>\n",
              "    </tr>\n",
              "    <tr>\n",
              "      <th>996</th>\n",
              "      <td>-1.0</td>\n",
              "      <td>Gabbie Hanna is that you?</td>\n",
              "    </tr>\n",
              "    <tr>\n",
              "      <th>997</th>\n",
              "      <td>1.0</td>\n",
              "      <td>Colleen we've never met in person but I got to...</td>\n",
              "    </tr>\n",
              "    <tr>\n",
              "      <th>998</th>\n",
              "      <td>-1.0</td>\n",
              "      <td>I don’t like how she victimizes herself the wh...</td>\n",
              "    </tr>\n",
              "    <tr>\n",
              "      <th>999</th>\n",
              "      <td>-1.0</td>\n",
              "      <td>Literally what is wrong with you you only care...</td>\n",
              "    </tr>\n",
              "  </tbody>\n",
              "</table>\n",
              "<p>1000 rows × 2 columns</p>\n",
              "</div>\n",
              "    <div class=\"colab-df-buttons\">\n",
              "\n",
              "  <div class=\"colab-df-container\">\n",
              "    <button class=\"colab-df-convert\" onclick=\"convertToInteractive('df-28dce769-c161-4b37-9297-8cfc0f1f1bfd')\"\n",
              "            title=\"Convert this dataframe to an interactive table.\"\n",
              "            style=\"display:none;\">\n",
              "\n",
              "  <svg xmlns=\"http://www.w3.org/2000/svg\" height=\"24px\" viewBox=\"0 -960 960 960\">\n",
              "    <path d=\"M120-120v-720h720v720H120Zm60-500h600v-160H180v160Zm220 220h160v-160H400v160Zm0 220h160v-160H400v160ZM180-400h160v-160H180v160Zm440 0h160v-160H620v160ZM180-180h160v-160H180v160Zm440 0h160v-160H620v160Z\"/>\n",
              "  </svg>\n",
              "    </button>\n",
              "\n",
              "  <style>\n",
              "    .colab-df-container {\n",
              "      display:flex;\n",
              "      gap: 12px;\n",
              "    }\n",
              "\n",
              "    .colab-df-convert {\n",
              "      background-color: #E8F0FE;\n",
              "      border: none;\n",
              "      border-radius: 50%;\n",
              "      cursor: pointer;\n",
              "      display: none;\n",
              "      fill: #1967D2;\n",
              "      height: 32px;\n",
              "      padding: 0 0 0 0;\n",
              "      width: 32px;\n",
              "    }\n",
              "\n",
              "    .colab-df-convert:hover {\n",
              "      background-color: #E2EBFA;\n",
              "      box-shadow: 0px 1px 2px rgba(60, 64, 67, 0.3), 0px 1px 3px 1px rgba(60, 64, 67, 0.15);\n",
              "      fill: #174EA6;\n",
              "    }\n",
              "\n",
              "    .colab-df-buttons div {\n",
              "      margin-bottom: 4px;\n",
              "    }\n",
              "\n",
              "    [theme=dark] .colab-df-convert {\n",
              "      background-color: #3B4455;\n",
              "      fill: #D2E3FC;\n",
              "    }\n",
              "\n",
              "    [theme=dark] .colab-df-convert:hover {\n",
              "      background-color: #434B5C;\n",
              "      box-shadow: 0px 1px 3px 1px rgba(0, 0, 0, 0.15);\n",
              "      filter: drop-shadow(0px 1px 2px rgba(0, 0, 0, 0.3));\n",
              "      fill: #FFFFFF;\n",
              "    }\n",
              "  </style>\n",
              "\n",
              "    <script>\n",
              "      const buttonEl =\n",
              "        document.querySelector('#df-28dce769-c161-4b37-9297-8cfc0f1f1bfd button.colab-df-convert');\n",
              "      buttonEl.style.display =\n",
              "        google.colab.kernel.accessAllowed ? 'block' : 'none';\n",
              "\n",
              "      async function convertToInteractive(key) {\n",
              "        const element = document.querySelector('#df-28dce769-c161-4b37-9297-8cfc0f1f1bfd');\n",
              "        const dataTable =\n",
              "          await google.colab.kernel.invokeFunction('convertToInteractive',\n",
              "                                                    [key], {});\n",
              "        if (!dataTable) return;\n",
              "\n",
              "        const docLinkHtml = 'Like what you see? Visit the ' +\n",
              "          '<a target=\"_blank\" href=https://colab.research.google.com/notebooks/data_table.ipynb>data table notebook</a>'\n",
              "          + ' to learn more about interactive tables.';\n",
              "        element.innerHTML = '';\n",
              "        dataTable['output_type'] = 'display_data';\n",
              "        await google.colab.output.renderOutput(dataTable, element);\n",
              "        const docLink = document.createElement('div');\n",
              "        docLink.innerHTML = docLinkHtml;\n",
              "        element.appendChild(docLink);\n",
              "      }\n",
              "    </script>\n",
              "  </div>\n",
              "\n",
              "\n",
              "<div id=\"df-f21f80bf-170f-4da4-bf1e-b68397b43b6d\">\n",
              "  <button class=\"colab-df-quickchart\" onclick=\"quickchart('df-f21f80bf-170f-4da4-bf1e-b68397b43b6d')\"\n",
              "            title=\"Suggest charts\"\n",
              "            style=\"display:none;\">\n",
              "\n",
              "<svg xmlns=\"http://www.w3.org/2000/svg\" height=\"24px\"viewBox=\"0 0 24 24\"\n",
              "     width=\"24px\">\n",
              "    <g>\n",
              "        <path d=\"M19 3H5c-1.1 0-2 .9-2 2v14c0 1.1.9 2 2 2h14c1.1 0 2-.9 2-2V5c0-1.1-.9-2-2-2zM9 17H7v-7h2v7zm4 0h-2V7h2v10zm4 0h-2v-4h2v4z\"/>\n",
              "    </g>\n",
              "</svg>\n",
              "  </button>\n",
              "\n",
              "<style>\n",
              "  .colab-df-quickchart {\n",
              "      --bg-color: #E8F0FE;\n",
              "      --fill-color: #1967D2;\n",
              "      --hover-bg-color: #E2EBFA;\n",
              "      --hover-fill-color: #174EA6;\n",
              "      --disabled-fill-color: #AAA;\n",
              "      --disabled-bg-color: #DDD;\n",
              "  }\n",
              "\n",
              "  [theme=dark] .colab-df-quickchart {\n",
              "      --bg-color: #3B4455;\n",
              "      --fill-color: #D2E3FC;\n",
              "      --hover-bg-color: #434B5C;\n",
              "      --hover-fill-color: #FFFFFF;\n",
              "      --disabled-bg-color: #3B4455;\n",
              "      --disabled-fill-color: #666;\n",
              "  }\n",
              "\n",
              "  .colab-df-quickchart {\n",
              "    background-color: var(--bg-color);\n",
              "    border: none;\n",
              "    border-radius: 50%;\n",
              "    cursor: pointer;\n",
              "    display: none;\n",
              "    fill: var(--fill-color);\n",
              "    height: 32px;\n",
              "    padding: 0;\n",
              "    width: 32px;\n",
              "  }\n",
              "\n",
              "  .colab-df-quickchart:hover {\n",
              "    background-color: var(--hover-bg-color);\n",
              "    box-shadow: 0 1px 2px rgba(60, 64, 67, 0.3), 0 1px 3px 1px rgba(60, 64, 67, 0.15);\n",
              "    fill: var(--button-hover-fill-color);\n",
              "  }\n",
              "\n",
              "  .colab-df-quickchart-complete:disabled,\n",
              "  .colab-df-quickchart-complete:disabled:hover {\n",
              "    background-color: var(--disabled-bg-color);\n",
              "    fill: var(--disabled-fill-color);\n",
              "    box-shadow: none;\n",
              "  }\n",
              "\n",
              "  .colab-df-spinner {\n",
              "    border: 2px solid var(--fill-color);\n",
              "    border-color: transparent;\n",
              "    border-bottom-color: var(--fill-color);\n",
              "    animation:\n",
              "      spin 1s steps(1) infinite;\n",
              "  }\n",
              "\n",
              "  @keyframes spin {\n",
              "    0% {\n",
              "      border-color: transparent;\n",
              "      border-bottom-color: var(--fill-color);\n",
              "      border-left-color: var(--fill-color);\n",
              "    }\n",
              "    20% {\n",
              "      border-color: transparent;\n",
              "      border-left-color: var(--fill-color);\n",
              "      border-top-color: var(--fill-color);\n",
              "    }\n",
              "    30% {\n",
              "      border-color: transparent;\n",
              "      border-left-color: var(--fill-color);\n",
              "      border-top-color: var(--fill-color);\n",
              "      border-right-color: var(--fill-color);\n",
              "    }\n",
              "    40% {\n",
              "      border-color: transparent;\n",
              "      border-right-color: var(--fill-color);\n",
              "      border-top-color: var(--fill-color);\n",
              "    }\n",
              "    60% {\n",
              "      border-color: transparent;\n",
              "      border-right-color: var(--fill-color);\n",
              "    }\n",
              "    80% {\n",
              "      border-color: transparent;\n",
              "      border-right-color: var(--fill-color);\n",
              "      border-bottom-color: var(--fill-color);\n",
              "    }\n",
              "    90% {\n",
              "      border-color: transparent;\n",
              "      border-bottom-color: var(--fill-color);\n",
              "    }\n",
              "  }\n",
              "</style>\n",
              "\n",
              "  <script>\n",
              "    async function quickchart(key) {\n",
              "      const quickchartButtonEl =\n",
              "        document.querySelector('#' + key + ' button');\n",
              "      quickchartButtonEl.disabled = true;  // To prevent multiple clicks.\n",
              "      quickchartButtonEl.classList.add('colab-df-spinner');\n",
              "      try {\n",
              "        const charts = await google.colab.kernel.invokeFunction(\n",
              "            'suggestCharts', [key], {});\n",
              "      } catch (error) {\n",
              "        console.error('Error during call to suggestCharts:', error);\n",
              "      }\n",
              "      quickchartButtonEl.classList.remove('colab-df-spinner');\n",
              "      quickchartButtonEl.classList.add('colab-df-quickchart-complete');\n",
              "    }\n",
              "    (() => {\n",
              "      let quickchartButtonEl =\n",
              "        document.querySelector('#df-f21f80bf-170f-4da4-bf1e-b68397b43b6d button');\n",
              "      quickchartButtonEl.style.display =\n",
              "        google.colab.kernel.accessAllowed ? 'block' : 'none';\n",
              "    })();\n",
              "  </script>\n",
              "</div>\n",
              "    </div>\n",
              "  </div>\n"
            ]
          },
          "metadata": {},
          "execution_count": 24
        }
      ]
    },
    {
      "cell_type": "markdown",
      "source": [
        "To test:\n",
        "- each prediction using python will be coded as Positive (if $pos > 0.2$), negative (if $neg > 0.2$) and everything else as neutral\n",
        "- then, the accuracy metric will be computed based on the 3x3 confusion matrix resulting from this."
      ],
      "metadata": {
        "id": "4KS6Fd_2HSAq"
      }
    },
    {
      "cell_type": "code",
      "source": [
        "def discrete_sentiment_analyzer(sentence):\n",
        "    score = analyzer.polarity_scores(sentence)\n",
        "    return round(score['compound'])\n"
      ],
      "metadata": {
        "id": "0UN1S_utUDIw"
      },
      "execution_count": 25,
      "outputs": []
    },
    {
      "cell_type": "code",
      "source": [
        "# modifying a bit the model so that it fits the definition for the loss function\n",
        "def discrete_sentiment_analyzer(sentence, printable_output:True):\n",
        "    score = analyzer.polarity_scores(sentence)\n",
        "\n",
        "    if printable_output:\n",
        "        print(\"{:-<40} {}\".format(sentence, str(score)))\n",
        "    if score['compound'] >= 0.05:\n",
        "        return 1\n",
        "    elif score['compound'] <= -0.05 :\n",
        "        return -1\n",
        "    return 0  #if score['compound'] is between -0.05 and 0.05, neutral it is!\n",
        "discrete_sentiment_analyzer(\"Idk what she did. But i forgive her.\", printable_output=True)\n",
        "discrete_sentiment_analyzer(\"BZZzzzz\", printable_output=True)\n",
        "discrete_sentiment_analyzer(\"Hateful\", printable_output=True)"
      ],
      "metadata": {
        "colab": {
          "base_uri": "https://localhost:8080/"
        },
        "id": "EXj4SmA-IWQs",
        "outputId": "152f2276-ba9f-43fc-c020-811a7927e210"
      },
      "execution_count": 26,
      "outputs": [
        {
          "output_type": "stream",
          "name": "stdout",
          "text": [
            "Idk what she did. But i forgive her.---- {'neg': 0.122, 'neu': 0.609, 'pos': 0.269, 'compound': 0.3506}\n",
            "BZZzzzz--------------------------------- {'neg': 0.0, 'neu': 1.0, 'pos': 0.0, 'compound': 0.0}\n",
            "Hateful--------------------------------- {'neg': 1.0, 'neu': 0.0, 'pos': 0.0, 'compound': -0.4939}\n"
          ]
        },
        {
          "output_type": "execute_result",
          "data": {
            "text/plain": [
              "-1"
            ]
          },
          "metadata": {},
          "execution_count": 26
        }
      ]
    },
    {
      "cell_type": "code",
      "source": [
        "test['predicted'] = [discrete_sentiment_analyzer(comment, printable_output=False) for comment in test['Comments']]"
      ],
      "metadata": {
        "id": "HplbLyz2Lx5U"
      },
      "execution_count": 27,
      "outputs": []
    },
    {
      "cell_type": "code",
      "source": [
        "test['Comments'].head(10)"
      ],
      "metadata": {
        "id": "a7YcK4C8Mf_G",
        "colab": {
          "base_uri": "https://localhost:8080/"
        },
        "outputId": "1ceb80a1-9c25-4581-84d2-9f1e2eab131e"
      },
      "execution_count": 28,
      "outputs": [
        {
          "output_type": "execute_result",
          "data": {
            "text/plain": [
              "0                                     GIRL REALLY?????\n",
              "1                 Idk what she did. But i forgive her.\n",
              "2                there’s literally no way this is real\n",
              "3    I vote this the BEST APOLOGY VIDEO of all time...\n",
              "4    new worst YouTube apology vid dropped. Laura l...\n",
              "5                            I like your video Colleen\n",
              "6                                    you’re delusional\n",
              "7                                Are you kidding me?!!\n",
              "8                            WHAT IS HAPPENING BRO…? 😨\n",
              "9         What happened to crying in front of a camera\n",
              "Name: Comments, dtype: object"
            ]
          },
          "metadata": {},
          "execution_count": 28
        }
      ]
    },
    {
      "cell_type": "code",
      "source": [
        "# Accuracy is the number of diagonal observations on the confusion matrix divided by N. Example:\n",
        "'''\n",
        "        predicted Positive Negative Neutral\n",
        "ground_t\n",
        "Positive             0       1       1\n",
        "Negative             1       1       0\n",
        "Neutral              1       0       1\n",
        "\n",
        "'''\n",
        "#it should be when all labels from one dataframe exactly match correspondant from the other\n",
        "(1+1)/6"
      ],
      "metadata": {
        "colab": {
          "base_uri": "https://localhost:8080/"
        },
        "id": "uI9m5XcMMgBb",
        "outputId": "910503a2-3545-4483-8a73-56fbe359ac31"
      },
      "execution_count": 29,
      "outputs": [
        {
          "output_type": "execute_result",
          "data": {
            "text/plain": [
              "0.3333333333333333"
            ]
          },
          "metadata": {},
          "execution_count": 29
        }
      ]
    },
    {
      "cell_type": "code",
      "source": [
        "mask = test['Semantic evaluation'] == test['predicted']"
      ],
      "metadata": {
        "id": "HxCdlKI7PAPd"
      },
      "execution_count": 30,
      "outputs": []
    },
    {
      "cell_type": "code",
      "source": [
        "print(sum(mask.astype(int))/1000)\n",
        "#that's a low accuracy, but it could've been worse (since there are three labels, if the assignment was really randomic this could've been around 0.333)"
      ],
      "metadata": {
        "colab": {
          "base_uri": "https://localhost:8080/"
        },
        "id": "nUzcWspYQnyW",
        "outputId": "11b5a18b-3997-4855-9e04-20163abf9020"
      },
      "execution_count": 31,
      "outputs": [
        {
          "output_type": "stream",
          "name": "stdout",
          "text": [
            "0.542\n"
          ]
        }
      ]
    },
    {
      "cell_type": "code",
      "source": [
        "bin_edges = [-1.2, -0.8, -0.2, 0.2, 0.8, 1.2]\n",
        "plt.hist(test['Semantic evaluation'],bins=bin_edges, alpha=0.5, label=\"Ground truth\", color=\"yellow\")\n",
        "plt.hist(test['predicted'], bins=bin_edges, alpha=0.5, label=\"Predicted\", color=\"purple\")\n",
        "plt.grid(axis = 'y')\n",
        "plt.legend()\n",
        "plt.tight_layout()\n",
        "plt.savefig('ground_truth vs predicted.pdf')\n",
        "plt.show()"
      ],
      "metadata": {
        "colab": {
          "base_uri": "https://localhost:8080/",
          "height": 497
        },
        "id": "mQ4QRc52TYBs",
        "outputId": "cb7b31f6-c3a8-4694-d11c-c1cfc7e66a58"
      },
      "execution_count": 32,
      "outputs": [
        {
          "output_type": "display_data",
          "data": {
            "text/plain": [
              "<Figure size 640x480 with 1 Axes>"
            ],
            "image/png": "[encoded data removed]"
          },
          "metadata": {
            "image/png": {
              "width": 640,
              "height": 480
            }
          }
        }
      ]
    },
    {
      "cell_type": "code",
      "source": [
        "true_positives = test[(test.predicted == 1) & (test['Semantic evaluation'] == 1)].shape[0]\n",
        "false_positives = test[(test.predicted != 1) & (test['Semantic evaluation'] == 1)].shape[0]\n",
        "print(f\"({true_positives} / {true_positives} + {false_positives} = {true_positives / (true_positives + false_positives) :.2f})\")"
      ],
      "metadata": {
        "colab": {
          "base_uri": "https://localhost:8080/"
        },
        "id": "w-CnE96dsw4i",
        "outputId": "4e12119f-fa6d-42fc-da65-a284264c3d7e"
      },
      "execution_count": 33,
      "outputs": [
        {
          "output_type": "stream",
          "name": "stdout",
          "text": [
            "(278 / 278 + 64 = 0.81)\n"
          ]
        }
      ]
    },
    {
      "cell_type": "code",
      "source": [
        "\n",
        "#first is predicted second is semantic evaluation\n",
        "positive_positive = test[(test.predicted == 1) & (test['Semantic evaluation'] == 1)].shape[0]\n",
        "positive_neutral = test [(test.predicted == 1) & (test['Semantic evaluation'] == 0)].shape[0]\n",
        "positive_negative = test[(test.predicted == 1) & (test['Semantic evaluation'] == -1)].shape[0]\n",
        "neutral_positive = test [(test.predicted == 0) & (test['Semantic evaluation'] == 1)].shape[0]\n",
        "neutral_neutral = test  [(test.predicted == 0) & (test['Semantic evaluation'] == 0)].shape[0]\n",
        "neutral_negative = test [(test.predicted == 0) & (test['Semantic evaluation'] == -1)].shape[0]\n",
        "negative_positive = test[(test.predicted == -1) & (test['Semantic evaluation'] == 1)].shape[0]\n",
        "negative_neutral = test [(test.predicted == -1) & (test['Semantic evaluation'] == 0)].shape[0]\n",
        "negative_negative = test[(test.predicted == -1) & (test['Semantic evaluation'] == -1)].shape[0]\n",
        "\n",
        "hehe = pd.DataFrame({'Pr_negative':[negative_negative, negative_neutral, negative_positive],\n",
        "              'Pr_neutral':        [neutral_negative, neutral_neutral,   neutral_positive],\n",
        "              'Pr_positive':       [positive_negative, positive_neutral, positive_positive]},\n",
        "             index = ['Negative', 'Neutral', 'Positive'])\n",
        "hehe"
      ],
      "metadata": {
        "colab": {
          "base_uri": "https://localhost:8080/",
          "height": 143
        },
        "id": "4dOV-Rj_waDC",
        "outputId": "0bcef21a-7bc5-45e8-fa74-e411fc8f25be"
      },
      "execution_count": 34,
      "outputs": [
        {
          "output_type": "execute_result",
          "data": {
            "text/plain": [
              "          Pr_negative  Pr_neutral  Pr_positive\n",
              "Negative          231         201          144\n",
              "Neutral            18          33           31\n",
              "Positive           41          23          278"
            ],
            "text/html": [
              "\n",
              "  <div id=\"df-1a41f783-58f8-451a-bc7f-10006546f1e2\" class=\"colab-df-container\">\n",
              "    <div>\n",
              "<style scoped>\n",
              "    .dataframe tbody tr th:only-of-type {\n",
              "        vertical-align: middle;\n",
              "    }\n",
              "\n",
              "    .dataframe tbody tr th {\n",
              "        vertical-align: top;\n",
              "    }\n",
              "\n",
              "    .dataframe thead th {\n",
              "        text-align: right;\n",
              "    }\n",
              "</style>\n",
              "<table border=\"1\" class=\"dataframe\">\n",
              "  <thead>\n",
              "    <tr style=\"text-align: right;\">\n",
              "      <th></th>\n",
              "      <th>Pr_negative</th>\n",
              "      <th>Pr_neutral</th>\n",
              "      <th>Pr_positive</th>\n",
              "    </tr>\n",
              "  </thead>\n",
              "  <tbody>\n",
              "    <tr>\n",
              "      <th>Negative</th>\n",
              "      <td>231</td>\n",
              "      <td>201</td>\n",
              "      <td>144</td>\n",
              "    </tr>\n",
              "    <tr>\n",
              "      <th>Neutral</th>\n",
              "      <td>18</td>\n",
              "      <td>33</td>\n",
              "      <td>31</td>\n",
              "    </tr>\n",
              "    <tr>\n",
              "      <th>Positive</th>\n",
              "      <td>41</td>\n",
              "      <td>23</td>\n",
              "      <td>278</td>\n",
              "    </tr>\n",
              "  </tbody>\n",
              "</table>\n",
              "</div>\n",
              "    <div class=\"colab-df-buttons\">\n",
              "\n",
              "  <div class=\"colab-df-container\">\n",
              "    <button class=\"colab-df-convert\" onclick=\"convertToInteractive('df-1a41f783-58f8-451a-bc7f-10006546f1e2')\"\n",
              "            title=\"Convert this dataframe to an interactive table.\"\n",
              "            style=\"display:none;\">\n",
              "\n",
              "  <svg xmlns=\"http://www.w3.org/2000/svg\" height=\"24px\" viewBox=\"0 -960 960 960\">\n",
              "    <path d=\"M120-120v-720h720v720H120Zm60-500h600v-160H180v160Zm220 220h160v-160H400v160Zm0 220h160v-160H400v160ZM180-400h160v-160H180v160Zm440 0h160v-160H620v160ZM180-180h160v-160H180v160Zm440 0h160v-160H620v160Z\"/>\n",
              "  </svg>\n",
              "    </button>\n",
              "\n",
              "  <style>\n",
              "    .colab-df-container {\n",
              "      display:flex;\n",
              "      gap: 12px;\n",
              "    }\n",
              "\n",
              "    .colab-df-convert {\n",
              "      background-color: #E8F0FE;\n",
              "      border: none;\n",
              "      border-radius: 50%;\n",
              "      cursor: pointer;\n",
              "      display: none;\n",
              "      fill: #1967D2;\n",
              "      height: 32px;\n",
              "      padding: 0 0 0 0;\n",
              "      width: 32px;\n",
              "    }\n",
              "\n",
              "    .colab-df-convert:hover {\n",
              "      background-color: #E2EBFA;\n",
              "      box-shadow: 0px 1px 2px rgba(60, 64, 67, 0.3), 0px 1px 3px 1px rgba(60, 64, 67, 0.15);\n",
              "      fill: #174EA6;\n",
              "    }\n",
              "\n",
              "    .colab-df-buttons div {\n",
              "      margin-bottom: 4px;\n",
              "    }\n",
              "\n",
              "    [theme=dark] .colab-df-convert {\n",
              "      background-color: #3B4455;\n",
              "      fill: #D2E3FC;\n",
              "    }\n",
              "\n",
              "    [theme=dark] .colab-df-convert:hover {\n",
              "      background-color: #434B5C;\n",
              "      box-shadow: 0px 1px 3px 1px rgba(0, 0, 0, 0.15);\n",
              "      filter: drop-shadow(0px 1px 2px rgba(0, 0, 0, 0.3));\n",
              "      fill: #FFFFFF;\n",
              "    }\n",
              "  </style>\n",
              "\n",
              "    <script>\n",
              "      const buttonEl =\n",
              "        document.querySelector('#df-1a41f783-58f8-451a-bc7f-10006546f1e2 button.colab-df-convert');\n",
              "      buttonEl.style.display =\n",
              "        google.colab.kernel.accessAllowed ? 'block' : 'none';\n",
              "\n",
              "      async function convertToInteractive(key) {\n",
              "        const element = document.querySelector('#df-1a41f783-58f8-451a-bc7f-10006546f1e2');\n",
              "        const dataTable =\n",
              "          await google.colab.kernel.invokeFunction('convertToInteractive',\n",
              "                                                    [key], {});\n",
              "        if (!dataTable) return;\n",
              "\n",
              "        const docLinkHtml = 'Like what you see? Visit the ' +\n",
              "          '<a target=\"_blank\" href=https://colab.research.google.com/notebooks/data_table.ipynb>data table notebook</a>'\n",
              "          + ' to learn more about interactive tables.';\n",
              "        element.innerHTML = '';\n",
              "        dataTable['output_type'] = 'display_data';\n",
              "        await google.colab.output.renderOutput(dataTable, element);\n",
              "        const docLink = document.createElement('div');\n",
              "        docLink.innerHTML = docLinkHtml;\n",
              "        element.appendChild(docLink);\n",
              "      }\n",
              "    </script>\n",
              "  </div>\n",
              "\n",
              "\n",
              "<div id=\"df-50db31e2-484f-46e1-9f7a-f6541aacb5b9\">\n",
              "  <button class=\"colab-df-quickchart\" onclick=\"quickchart('df-50db31e2-484f-46e1-9f7a-f6541aacb5b9')\"\n",
              "            title=\"Suggest charts\"\n",
              "            style=\"display:none;\">\n",
              "\n",
              "<svg xmlns=\"http://www.w3.org/2000/svg\" height=\"24px\"viewBox=\"0 0 24 24\"\n",
              "     width=\"24px\">\n",
              "    <g>\n",
              "        <path d=\"M19 3H5c-1.1 0-2 .9-2 2v14c0 1.1.9 2 2 2h14c1.1 0 2-.9 2-2V5c0-1.1-.9-2-2-2zM9 17H7v-7h2v7zm4 0h-2V7h2v10zm4 0h-2v-4h2v4z\"/>\n",
              "    </g>\n",
              "</svg>\n",
              "  </button>\n",
              "\n",
              "<style>\n",
              "  .colab-df-quickchart {\n",
              "      --bg-color: #E8F0FE;\n",
              "      --fill-color: #1967D2;\n",
              "      --hover-bg-color: #E2EBFA;\n",
              "      --hover-fill-color: #174EA6;\n",
              "      --disabled-fill-color: #AAA;\n",
              "      --disabled-bg-color: #DDD;\n",
              "  }\n",
              "\n",
              "  [theme=dark] .colab-df-quickchart {\n",
              "      --bg-color: #3B4455;\n",
              "      --fill-color: #D2E3FC;\n",
              "      --hover-bg-color: #434B5C;\n",
              "      --hover-fill-color: #FFFFFF;\n",
              "      --disabled-bg-color: #3B4455;\n",
              "      --disabled-fill-color: #666;\n",
              "  }\n",
              "\n",
              "  .colab-df-quickchart {\n",
              "    background-color: var(--bg-color);\n",
              "    border: none;\n",
              "    border-radius: 50%;\n",
              "    cursor: pointer;\n",
              "    display: none;\n",
              "    fill: var(--fill-color);\n",
              "    height: 32px;\n",
              "    padding: 0;\n",
              "    width: 32px;\n",
              "  }\n",
              "\n",
              "  .colab-df-quickchart:hover {\n",
              "    background-color: var(--hover-bg-color);\n",
              "    box-shadow: 0 1px 2px rgba(60, 64, 67, 0.3), 0 1px 3px 1px rgba(60, 64, 67, 0.15);\n",
              "    fill: var(--button-hover-fill-color);\n",
              "  }\n",
              "\n",
              "  .colab-df-quickchart-complete:disabled,\n",
              "  .colab-df-quickchart-complete:disabled:hover {\n",
              "    background-color: var(--disabled-bg-color);\n",
              "    fill: var(--disabled-fill-color);\n",
              "    box-shadow: none;\n",
              "  }\n",
              "\n",
              "  .colab-df-spinner {\n",
              "    border: 2px solid var(--fill-color);\n",
              "    border-color: transparent;\n",
              "    border-bottom-color: var(--fill-color);\n",
              "    animation:\n",
              "      spin 1s steps(1) infinite;\n",
              "  }\n",
              "\n",
              "  @keyframes spin {\n",
              "    0% {\n",
              "      border-color: transparent;\n",
              "      border-bottom-color: var(--fill-color);\n",
              "      border-left-color: var(--fill-color);\n",
              "    }\n",
              "    20% {\n",
              "      border-color: transparent;\n",
              "      border-left-color: var(--fill-color);\n",
              "      border-top-color: var(--fill-color);\n",
              "    }\n",
              "    30% {\n",
              "      border-color: transparent;\n",
              "      border-left-color: var(--fill-color);\n",
              "      border-top-color: var(--fill-color);\n",
              "      border-right-color: var(--fill-color);\n",
              "    }\n",
              "    40% {\n",
              "      border-color: transparent;\n",
              "      border-right-color: var(--fill-color);\n",
              "      border-top-color: var(--fill-color);\n",
              "    }\n",
              "    60% {\n",
              "      border-color: transparent;\n",
              "      border-right-color: var(--fill-color);\n",
              "    }\n",
              "    80% {\n",
              "      border-color: transparent;\n",
              "      border-right-color: var(--fill-color);\n",
              "      border-bottom-color: var(--fill-color);\n",
              "    }\n",
              "    90% {\n",
              "      border-color: transparent;\n",
              "      border-bottom-color: var(--fill-color);\n",
              "    }\n",
              "  }\n",
              "</style>\n",
              "\n",
              "  <script>\n",
              "    async function quickchart(key) {\n",
              "      const quickchartButtonEl =\n",
              "        document.querySelector('#' + key + ' button');\n",
              "      quickchartButtonEl.disabled = true;  // To prevent multiple clicks.\n",
              "      quickchartButtonEl.classList.add('colab-df-spinner');\n",
              "      try {\n",
              "        const charts = await google.colab.kernel.invokeFunction(\n",
              "            'suggestCharts', [key], {});\n",
              "      } catch (error) {\n",
              "        console.error('Error during call to suggestCharts:', error);\n",
              "      }\n",
              "      quickchartButtonEl.classList.remove('colab-df-spinner');\n",
              "      quickchartButtonEl.classList.add('colab-df-quickchart-complete');\n",
              "    }\n",
              "    (() => {\n",
              "      let quickchartButtonEl =\n",
              "        document.querySelector('#df-50db31e2-484f-46e1-9f7a-f6541aacb5b9 button');\n",
              "      quickchartButtonEl.style.display =\n",
              "        google.colab.kernel.accessAllowed ? 'block' : 'none';\n",
              "    })();\n",
              "  </script>\n",
              "</div>\n",
              "    </div>\n",
              "  </div>\n"
            ]
          },
          "metadata": {},
          "execution_count": 34
        }
      ]
    },
    {
      "cell_type": "code",
      "source": [
        "(231 + 33 + 278) / 1000"
      ],
      "metadata": {
        "colab": {
          "base_uri": "https://localhost:8080/"
        },
        "id": "7Low-X4403Yc",
        "outputId": "9b38be9c-62ec-4a8f-c0d1-6999383374ef"
      },
      "execution_count": 35,
      "outputs": [
        {
          "output_type": "execute_result",
          "data": {
            "text/plain": [
              "0.542"
            ]
          },
          "metadata": {},
          "execution_count": 35
        }
      ]
    },
    {
      "cell_type": "code",
      "source": [
        "positive_positive/(negative_positive + neutral_positive + positive_positive)"
      ],
      "metadata": {
        "colab": {
          "base_uri": "https://localhost:8080/"
        },
        "id": "K2FFtoB33cfH",
        "outputId": "1fa1a168-1175-4497-ec48-2381417c0a3f"
      },
      "execution_count": 37,
      "outputs": [
        {
          "output_type": "execute_result",
          "data": {
            "text/plain": [
              "0.8128654970760234"
            ]
          },
          "metadata": {},
          "execution_count": 37
        }
      ]
    },
    {
      "cell_type": "markdown",
      "source": [
        "The ready-to-use python model works well with predicting positive comments, but it does fail with the sarcasm and slang used offensively that is immensely present in the data. I shall also note that I tend to see many comments as less neutral and attribute them to polarize them, likely because I perceive them as sarcastic or sympathetic with Coleen (as in actually heartwarming) but they are expressed in a long and formal way, which might be computed as negative by VADER.  "
      ],
      "metadata": {
        "id": "gwAmmXevXSFJ"
      }
    },
    {
      "cell_type": "code",
      "source": [
        "df"
      ],
      "metadata": {
        "colab": {
          "base_uri": "https://localhost:8080/",
          "height": 176
        },
        "id": "2Xy0QrJ44qF0",
        "outputId": "838d8812-74ef-4e59-bc26-d7394a0f1fa8"
      },
      "execution_count": 39,
      "outputs": [
        {
          "output_type": "error",
          "ename": "NameError",
          "evalue": "name 'df' is not defined",
          "traceback": [
            "\u001b[0;31m---------------------------------------------------------------------------\u001b[0m",
            "\u001b[0;31mNameError\u001b[0m                                 Traceback (most recent call last)",
            "\u001b[0;32m<ipython-input-39-00cf07b74dcd>\u001b[0m in \u001b[0;36m<cell line: 1>\u001b[0;34m()\u001b[0m\n\u001b[0;32m----> 1\u001b[0;31m \u001b[0mdf\u001b[0m\u001b[0;34m\u001b[0m\u001b[0;34m\u001b[0m\u001b[0m\n\u001b[0m",
            "\u001b[0;31mNameError\u001b[0m: name 'df' is not defined"
          ]
        }
      ]
    },
    {
      "cell_type": "markdown",
      "source": [
        "# Topic Identification\n",
        "To do so, Gensim's library for Python Latent Dirichlet Allocation (LDA) will be used.\n",
        "To find meaningful relationships between topics, the comments will be divided into two exclusive corpuses of analysis:\n",
        "- negative comments\n",
        "- positive comments\n",
        "So that it is possible to know what are people negatively expressing and what are people positively expressing.\n",
        "\n",
        "Tutorial: [Topic Identification](https://www.analyticsvidhya.com/blog/2022/02/topic-identification-with-gensim-library-using-python/)"
      ],
      "metadata": {
        "id": "uxbxblApPdIr"
      }
    },
    {
      "cell_type": "code",
      "source": [
        "import logging\n",
        "logging.basicConfig(format='%(asctime)s : %(levelname)s : %(message)s', level=logging.INFO)\n"
      ],
      "metadata": {
        "id": "A8srqSoY6vDR"
      },
      "execution_count": null,
      "outputs": []
    },
    {
      "cell_type": "code",
      "source": [
        "!pip install gensim -q"
      ],
      "metadata": {
        "id": "XSZY3ja_6LYK"
      },
      "execution_count": null,
      "outputs": []
    },
    {
      "cell_type": "code",
      "source": [
        "from gensim import corpora"
      ],
      "metadata": {
        "id": "t0f-wf4S62Yb"
      },
      "execution_count": null,
      "outputs": []
    },
    {
      "cell_type": "code",
      "source": [
        "stoplist = set('for a of the and to in this there perhaps'.split())\n",
        "\n",
        "#texts = [[word for word in comment.lower().split() if word not in stoplist]\n",
        "#         for document in clean_data['COMMENT']]\n",
        "def processing(comment):\n",
        "    res = []\n",
        "    for word in comment.lower().split():\n",
        "        if word not in stoplist:\n",
        "            res.append(word)\n",
        "    return res\n",
        "topics = pd.DataFrame()\n",
        "topics['Comments'] = clean_data['COMMENT'].apply(processing)"
      ],
      "metadata": {
        "id": "Tau-jlWCAg0U"
      },
      "execution_count": null,
      "outputs": []
    },
    {
      "cell_type": "code",
      "source": [
        "topics.insert(1, \"Labels\", clean_data['LABEL'])\n",
        "topics.head()"
      ],
      "metadata": {
        "id": "cx625_i9DG8K"
      },
      "execution_count": null,
      "outputs": []
    },
    {
      "cell_type": "code",
      "source": [
        "from gensim import corpora\n",
        "\n",
        "documents = [\"Human machine interface for lab abc computer applications\",\n",
        "              \"A survey of user opinion of computer system response time\",\n",
        "              \"The EPS user interface management system\",\n",
        "              \"System and human system engineering testing of EPS\",\n",
        "              \"Relation of user perceived response time to error measurement\",\n",
        "              \"The generation of random binary unordered trees\",\n",
        "              \"The intersection graph of paths in trees\",\n",
        "              \"Graph minors IV Widths of trees and well quasi ordering\",\n",
        "              \"Graph minors A survey\"]"
      ],
      "metadata": {
        "id": "LpKrcowr_dss"
      },
      "execution_count": null,
      "outputs": []
    },
    {
      "cell_type": "code",
      "source": [
        "\n",
        "\n",
        "# remove words that appear only once\n",
        "from collections import defaultdict\n",
        "frequency = defaultdict(int)\n",
        "for text in texts:\n",
        "    for token in text:\n",
        "        frequency[token] += 1\n",
        "\n",
        "texts = [[token for token in text if frequency[token] > 1]\n",
        "         for text in texts]\n",
        "\n",
        "from pprint import pprint  # pretty-printer\n",
        "pprint(texts)"
      ],
      "metadata": {
        "id": "_jD4AbZO_d2v"
      },
      "execution_count": null,
      "outputs": []
    },
    {
      "cell_type": "code",
      "source": [
        "clean_data[clean_data.COMPOUND < -0.5].COMMENT"
      ],
      "metadata": {
        "id": "73huur-S_d-h",
        "colab": {
          "base_uri": "https://localhost:8080/"
        },
        "outputId": "5c0d3c61-aca0-4956-b6d2-79f9c1bf4117"
      },
      "execution_count": 52,
      "outputs": [
        {
          "output_type": "execute_result",
          "data": {
            "text/plain": [
              "5269                        what 😭😭😭😭😭😭😭😭😭😭😭😭😭😭😭😭😭😭😭😭😭😭😭😭\n",
              "455              the ukelele is killing me 😭😭😭😭😭😭😭😭😭😭😭😭😭😭\n",
              "6958     first  every single person in this situation ...\n",
              "7569    seems like people forget there are two sides t...\n",
              "2805    perhaps the comments people are saying about y...\n",
              "                              ...                        \n",
              "1801    this video cannot be real you know what you di...\n",
              "7415    i m taking accountability but also  this is al...\n",
              "6115                           cancel culture is so weird\n",
              "2380    i literally haven’t seen something so ridiculo...\n",
              "2747           be for real now ??? this is mental illness\n",
              "Name: COMMENT, Length: 1437, dtype: object"
            ]
          },
          "metadata": {},
          "execution_count": 52
        }
      ]
    },
    {
      "cell_type": "code",
      "source": [
        "lemmatizer = gensim.utils.lemmatize()"
      ],
      "metadata": {
        "id": "Z-0sNOG02C79"
      },
      "execution_count": null,
      "outputs": []
    },
    {
      "cell_type": "code",
      "source": [],
      "metadata": {
        "id": "_uMazA_ZPesh"
      },
      "execution_count": null,
      "outputs": []
    }
  ]
}